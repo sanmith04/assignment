{
 "cells": [
  {
   "cell_type": "markdown",
   "metadata": {},
   "source": [
    "# Program to add two complex numbers "
   ]
  },
  {
   "cell_type": "code",
   "execution_count": 5,
   "metadata": {},
   "outputs": [
    {
     "name": "stdout",
     "output_type": "stream",
     "text": [
      "enter the first number:7+8j\n",
      "enter the second number:4-6j\n",
      "(11+2j)\n"
     ]
    }
   ],
   "source": [
    "import math\n",
    "\n",
    "a=complex(input(\"enter the first number:\"))\n",
    "b=complex(input(\"enter the second number:\"))\n",
    "\n",
    "c=complex(a+b)\n",
    "print(c)"
   ]
  },
  {
   "cell_type": "markdown",
   "metadata": {},
   "source": [
    "# Program to subtract 2 complex numbers"
   ]
  },
  {
   "cell_type": "code",
   "execution_count": 6,
   "metadata": {},
   "outputs": [
    {
     "name": "stdout",
     "output_type": "stream",
     "text": [
      "Enter the first number-7-8j\n",
      "Enter the second number-5+8j\n",
      "(2-16j)\n"
     ]
    }
   ],
   "source": [
    "import math \n",
    "\n",
    "\n",
    "a=complex(input(\"Enter the first number-\"))  \n",
    "b=complex(input(\"Enter the second number-\"))\n",
    "\n",
    "z=complex(a-b)\n",
    "print(z)\n"
   ]
  },
  {
   "cell_type": "markdown",
   "metadata": {},
   "source": [
    "# Program to multiply 2 complex numbers"
   ]
  },
  {
   "cell_type": "code",
   "execution_count": 4,
   "metadata": {},
   "outputs": [
    {
     "name": "stdout",
     "output_type": "stream",
     "text": [
      "Enter the first number-5+10j\n",
      "Enter the second number-4-7j\n",
      "(90+5j)\n"
     ]
    }
   ],
   "source": [
    "import math \n",
    "\n",
    "\n",
    "a=complex(input(\"Enter the first number-\"))  \n",
    "b=complex(input(\"Enter the second number-\"))\n",
    "\n",
    "c=complex(a*b)\n",
    "print(c)"
   ]
  },
  {
   "cell_type": "markdown",
   "metadata": {},
   "source": [
    "# program to divide 2 complex numbers"
   ]
  },
  {
   "cell_type": "code",
   "execution_count": 10,
   "metadata": {},
   "outputs": [
    {
     "name": "stdout",
     "output_type": "stream",
     "text": [
      "Enter the first number-4+3j\n",
      "Enter the second number-3-7j\n",
      "(-0.15517241379310348+0.6379310344827587j)\n"
     ]
    }
   ],
   "source": [
    "import math \n",
    "\n",
    "\n",
    "a=complex(input(\"Enter the first number-\"))  \n",
    "b=complex(input(\"Enter the second number-\"))\n",
    "\n",
    "c=complex(a/b)\n",
    "print(c)"
   ]
  },
  {
   "cell_type": "markdown",
   "metadata": {},
   "source": [
    "# Modulo operation of complex number"
   ]
  },
  {
   "cell_type": "code",
   "execution_count": 2,
   "metadata": {},
   "outputs": [
    {
     "name": "stdout",
     "output_type": "stream",
     "text": [
      "Enter complex number in form a+bj: 8+6j\n",
      "The modulus of  (8+6j)  is 10.0\n"
     ]
    }
   ],
   "source": [
    "x=complex(input(\"Enter complex number in form a+bj: \"))\n",
    "\n",
    "import math\n",
    "y=math.sqrt((x.real)**2+(x.imag)**2)\n",
    "\n",
    "print(\"The modulus of \",x,\" is\", y.real)"
   ]
  },
  {
   "cell_type": "markdown",
   "metadata": {},
   "source": [
    "# Range function and its parameteres\n"
   ]
  },
  {
   "cell_type": "markdown",
   "metadata": {},
   "source": [
    "Range function is used to generate a sequence of items,we generate the sequence by giving a start value and stop value and step value and it consumes less memory irrespective of the range it represents when compared to a list or tuple.\n",
    "\n",
    "Range function can be written in 3 different ways\n",
    "#range(stop_value):this by default considers the starting point as zero\n",
    "#range(start_value,stop_value):this generates sequence based on start and stop value\n",
    "#range(start_value,stop_value,step_value):It generates the sequence by incrementing the start value using the step size until it reaches the stop value"
   ]
  },
  {
   "cell_type": "markdown",
   "metadata": {},
   "source": [
    "# Program for a range function"
   ]
  },
  {
   "cell_type": "code",
   "execution_count": 8,
   "metadata": {},
   "outputs": [
    {
     "name": "stdout",
     "output_type": "stream",
     "text": [
      "2\n",
      "3\n",
      "4\n",
      "5\n",
      "6\n",
      "7\n",
      "8\n"
     ]
    }
   ],
   "source": [
    "for i in range(2,9):\n",
    "    print(i)"
   ]
  },
  {
   "cell_type": "markdown",
   "metadata": {},
   "source": [
    "# Program of question 3"
   ]
  },
  {
   "cell_type": "code",
   "execution_count": 13,
   "metadata": {},
   "outputs": [
    {
     "name": "stdout",
     "output_type": "stream",
     "text": [
      "Enter the first number:98\n",
      "Enter the second number:23\n",
      "2254\n"
     ]
    }
   ],
   "source": [
    "a=int(input(\"Enter the first number:\"))\n",
    "b=int(input(\"Enter the second number:\"))\n",
    "\n",
    "c=a-b\n",
    "if c>=25:\n",
    "    res=a*b\n",
    "    print(res)\n",
    "else:\n",
    "    div=a/b\n",
    "    print(div)"
   ]
  },
  {
   "cell_type": "markdown",
   "metadata": {},
   "source": [
    "# Program of question 4"
   ]
  },
  {
   "cell_type": "code",
   "execution_count": 20,
   "metadata": {},
   "outputs": [
    {
     "name": "stdout",
     "output_type": "stream",
     "text": [
      "142\n",
      "194\n",
      "322\n",
      "1598\n"
     ]
    }
   ],
   "source": [
    "l=[1,5,7,9,12,14,18,25,40,43]\n",
    "\n",
    "\n",
    "for i in l:\n",
    "    if i%2==0:\n",
    "        temp=i\n",
    "        temp=(temp**2)-2\n",
    "        print(temp)"
   ]
  },
  {
   "cell_type": "markdown",
   "metadata": {},
   "source": [
    "# Program of question 5"
   ]
  },
  {
   "cell_type": "code",
   "execution_count": 27,
   "metadata": {},
   "outputs": [
    {
     "name": "stdout",
     "output_type": "stream",
     "text": [
      "25\n",
      "30\n",
      "34\n",
      "36\n",
      "40\n",
      "43\n",
      "47\n",
      "53\n"
     ]
    }
   ],
   "source": [
    "l2=[10,14,25,30,34,36,40,43,47,53]\n",
    "\n",
    "for i in l2:\n",
    "    temp=i\n",
    "    temp=temp/2\n",
    "    if temp>7:\n",
    "        print(i)\n",
    "       "
   ]
  },
  {
   "cell_type": "code",
   "execution_count": null,
   "metadata": {},
   "outputs": [],
   "source": []
  }
 ],
 "metadata": {
  "kernelspec": {
   "display_name": "Python 3",
   "language": "python",
   "name": "python3"
  },
  "language_info": {
   "codemirror_mode": {
    "name": "ipython",
    "version": 3
   },
   "file_extension": ".py",
   "mimetype": "text/x-python",
   "name": "python",
   "nbconvert_exporter": "python",
   "pygments_lexer": "ipython3",
   "version": "3.7.6"
  }
 },
 "nbformat": 4,
 "nbformat_minor": 4
}
